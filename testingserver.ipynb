{
  "nbformat": 4,
  "nbformat_minor": 0,
  "metadata": {
    "colab": {
      "name": "Flask App Tutorial.ipynb",
      "provenance": [],
      "machine_shape": "hm",
      "gpuType": "A100",
      "include_colab_link": true
    },
    "kernelspec": {
      "name": "python3",
      "display_name": "Python 3"
    },
    "language_info": {
      "name": "python"
    },
    "gpuClass": "standard"
  },
  "cells": [
    {
      "cell_type": "markdown",
      "metadata": {
        "id": "view-in-github",
        "colab_type": "text"
      },
      "source": [
        "<a href=\"https://colab.research.google.com/github/defyMiy/NMT-Project/blob/main/testingserver.ipynb\" target=\"_parent\"><img src=\"https://colab.research.google.com/assets/colab-badge.svg\" alt=\"Open In Colab\"/></a>"
      ]
    },
    {
      "cell_type": "code",
      "source": [
        "# from google.colab import drive\n",
        "# drive.mount('/content/gdrive')"
      ],
      "metadata": {
        "id": "69pvKnpzCP1p",
        "outputId": "5474af17-11fb-4285-8862-ea6f821a9524",
        "colab": {
          "base_uri": "https://localhost:8080/"
        }
      },
      "execution_count": null,
      "outputs": [
        {
          "output_type": "stream",
          "name": "stdout",
          "text": [
            "Mounted at /content/gdrive\n"
          ]
        }
      ]
    },
    {
      "cell_type": "code",
      "source": [
        "# !pip install simpletransformers\n",
        "# !pip install torch\n",
        "!pip install pythainlp\n",
        "!pip install python-crfsuite"
      ],
      "metadata": {
        "id": "na1ddGhxCOw6"
      },
      "execution_count": null,
      "outputs": []
    },
    {
      "cell_type": "code",
      "source": [
        "!rm -rf '/content/ngrok-stable-linux-amd64.tgz'\n",
        "!rm -rf '/content/ngrok'\n",
        "\n",
        "!pip install flask --quiet\n",
        "!pip install flask-ngrok --quiet\n",
        "\n",
        "# install ngrok linux version using the following command or you can get the\n",
        "# latest version from its official website- https://dashboard.ngrok.com/get-started/setup\n",
        "!wget https://bin.equinox.io/c/4VmDzA7iaHb/ngrok-stable-linux-amd64.tgz\n",
        "\n",
        "# extract the downloaded file using the following command \n",
        "!tar -xvf /content/ngrok-stable-linux-amd64.tgz\n",
        "\n",
        "# paste your AuthToken here and execute this command\n",
        "!./ngrok authtoken 2Q8ZedCqtQIP2l7e7KVREa2MMvc_2qRULQx4QRLYG97GMTyaZ"
      ],
      "metadata": {
        "id": "t1HlxLaRJ-uv"
      },
      "execution_count": null,
      "outputs": []
    },
    {
      "cell_type": "code",
      "source": [
        "# import logging\n",
        "# import torch\n",
        "# from simpletransformers.t5 import T5Model, T5Args\n",
        "\n",
        "# logging.basicConfig(level=logging.INFO)\n",
        "# transformers_logger = logging.getLogger(\"transformers\")\n",
        "# transformers_logger.setLevel(logging.WARNING)\n",
        "\n",
        "# model_args = T5Args()\n",
        "# model_args.max_length = 100\n",
        "# model_args.length_penalty = 1\n",
        "# model_args.num_beams = 10\n",
        "\n",
        "# device = torch.cuda.is_available()\n",
        "# path = '/content/gdrive/MyDrive/model/mt5-4bs-4e-5lr'\n",
        "\n",
        "# model = T5Model(\"mt5\", path, args=model_args, use_cuda=device)"
      ],
      "metadata": {
        "id": "dEajrG6gAf3M"
      },
      "execution_count": null,
      "outputs": []
    },
    {
      "cell_type": "code",
      "source": [
        "import re\n",
        "import pycrfsuite\n",
        "from pythainlp import sent_tokenize\n",
        "\n",
        "def split_sentence_TH(TH_predict):\n",
        "  TH_predict = sent_tokenize(TH_predict)\n",
        "  for i in range(len(TH_predict)):\n",
        "    # remove space in back\n",
        "    TH_predict[i] = TH_predict[i].rstrip()\n",
        "\n",
        "    # debug for engine fail example ['750ml', '1500ml']\n",
        "    # move to append previous sentences\n",
        "    # and replace ''\n",
        "    if re.search('[0-9]', TH_predict[i][0]):\n",
        "      j = i\n",
        "      while True:\n",
        "        if TH_predict[j-1] != '':\n",
        "          TH_predict[j-1] += ' ' + TH_predict[i]\n",
        "          break\n",
        "      j -= 1\n",
        "      TH_predict[i] = ''\n",
        "\n",
        "  # remove '' in list\n",
        "  while '' in TH_predict:\n",
        "    TH_predict.remove('')\n",
        "  print('[split sentence completed]')\n",
        "  print(TH_predict)\n",
        "  return TH_predict\n",
        "\n",
        "def split_sentence_EN(EN_predict):\n",
        "  EN_predict = EN_predict.split('. ')\n",
        "  for i in range(len(EN_predict)):\n",
        "    if EN_predict[i][-1] != '.':\n",
        "      EN_predict[i] += '.'\n",
        "  return EN_predict\n",
        "  \n",
        "# def predict(text):\n",
        "#   predictions = model.predict(text)\n",
        "#   print('[split sentence completed]')\n",
        "#   print(predictions)\n",
        "#   return predictions"
      ],
      "metadata": {
        "id": "Xad5rlk563qu"
      },
      "execution_count": null,
      "outputs": []
    },
    {
      "cell_type": "code",
      "source": [
        "!pip install -U flask-cors"
      ],
      "metadata": {
        "id": "BHmfzAxI7v_U",
        "outputId": "84150ada-7456-4f2d-a953-6053af1e256d",
        "colab": {
          "base_uri": "https://localhost:8080/"
        }
      },
      "execution_count": 19,
      "outputs": [
        {
          "output_type": "stream",
          "name": "stdout",
          "text": [
            "Looking in indexes: https://pypi.org/simple, https://us-python.pkg.dev/colab-wheels/public/simple/\n",
            "Collecting flask-cors\n",
            "  Downloading Flask_Cors-3.0.10-py2.py3-none-any.whl (14 kB)\n",
            "Requirement already satisfied: Flask>=0.9 in /usr/local/lib/python3.10/dist-packages (from flask-cors) (2.2.4)\n",
            "Requirement already satisfied: Six in /usr/local/lib/python3.10/dist-packages (from flask-cors) (1.16.0)\n",
            "Requirement already satisfied: Werkzeug>=2.2.2 in /usr/local/lib/python3.10/dist-packages (from Flask>=0.9->flask-cors) (2.3.0)\n",
            "Requirement already satisfied: Jinja2>=3.0 in /usr/local/lib/python3.10/dist-packages (from Flask>=0.9->flask-cors) (3.1.2)\n",
            "Requirement already satisfied: itsdangerous>=2.0 in /usr/local/lib/python3.10/dist-packages (from Flask>=0.9->flask-cors) (2.1.2)\n",
            "Requirement already satisfied: click>=8.0 in /usr/local/lib/python3.10/dist-packages (from Flask>=0.9->flask-cors) (8.1.3)\n",
            "Requirement already satisfied: MarkupSafe>=2.0 in /usr/local/lib/python3.10/dist-packages (from Jinja2>=3.0->Flask>=0.9->flask-cors) (2.1.2)\n",
            "Installing collected packages: flask-cors\n",
            "Successfully installed flask-cors-3.0.10\n"
          ]
        }
      ]
    },
    {
      "cell_type": "code",
      "source": [
        "import logging\n",
        "# import Flask from flask module\n",
        "from flask import Flask, request, jsonify\n",
        "from flask_cors import CORS\n",
        "# import run_with_ngrok from flask_ngrok to run the app using ngrok\n",
        "from flask_ngrok import run_with_ngrok\n",
        "  \n",
        "app = Flask(__name__) #app name\n",
        "logging.basicConfig(level=logging.INFO)\n",
        "logging.getLogger('flask_cors').level = logging.DEBUG\n",
        "CORS(app)\n",
        "run_with_ngrok(app)\n",
        "  \n",
        "@app.route(\"/\", methods=[\"GET\", \"POST\"])\n",
        "def index():\n",
        "  if request.method == \"POST\":\n",
        "    json_data = request.get_json()\n",
        "    if not json_data:\n",
        "      return jsonify({\"error\": \"no data\"})\n",
        "    try:\n",
        "      if json_data[\"task\"] == \"th-en\":\n",
        "        prediction = split_sentence_TH(json_data[\"text\"])\n",
        "      elif json_data[\"task\"] == \"en-th\":\n",
        "        prediction = split_sentence_TH(json_data[\"text\"])\n",
        "      # prediction = predict(prediction)\n",
        "      # ทดสอบส่งกลับ\n",
        "      data_predicted = {\"prediction\": prediction}\n",
        "      return jsonify(data_predicted)\n",
        "    except Exception as e:\n",
        "      return jsonify({\"error\": str(e)})\n",
        "  return \"OK\"\n",
        "  \n",
        "if __name__ == \"__main__\":\n",
        "  app.run()"
      ],
      "metadata": {
        "colab": {
          "base_uri": "https://localhost:8080/"
        },
        "id": "XLlugcOeKlWH",
        "outputId": "b056bed9-7ac5-4a3a-fc23-cf53458e371a"
      },
      "execution_count": 20,
      "outputs": [
        {
          "output_type": "stream",
          "name": "stderr",
          "text": [
            "DEBUG:flask_cors.extension:Configuring CORS with resources: {'/*': {'origins': ['.*'], 'methods': 'DELETE, GET, HEAD, OPTIONS, PATCH, POST, PUT', 'allow_headers': ['.*'], 'expose_headers': None, 'supports_credentials': False, 'max_age': None, 'send_wildcard': False, 'automatic_options': True, 'vary_header': True, 'resources': '/*', 'intercept_exceptions': True, 'always_send': True}}\n"
          ]
        },
        {
          "output_type": "stream",
          "name": "stdout",
          "text": [
            " * Serving Flask app '__main__'\n",
            " * Debug mode: off\n"
          ]
        },
        {
          "output_type": "stream",
          "name": "stderr",
          "text": [
            "INFO:werkzeug:\u001b[31m\u001b[1mWARNING: This is a development server. Do not use it in a production deployment. Use a production WSGI server instead.\u001b[0m\n",
            " * Running on http://127.0.0.1:5000\n",
            "INFO:werkzeug:\u001b[33mPress CTRL+C to quit\u001b[0m\n"
          ]
        },
        {
          "output_type": "stream",
          "name": "stdout",
          "text": [
            " * Running on http://07c6-35-221-221-44.ngrok-free.app\n",
            " * Traffic stats available on http://127.0.0.1:4040\n"
          ]
        },
        {
          "output_type": "stream",
          "name": "stderr",
          "text": [
            "DEBUG:flask_cors.extension:Request to '/' matches CORS resource '/*'. Using options: {'origins': ['.*'], 'methods': 'DELETE, GET, HEAD, OPTIONS, PATCH, POST, PUT', 'allow_headers': ['.*'], 'expose_headers': None, 'supports_credentials': False, 'max_age': None, 'send_wildcard': False, 'automatic_options': True, 'vary_header': True, 'resources': '/*', 'intercept_exceptions': True, 'always_send': True}\n",
            "DEBUG:flask_cors.core:Settings CORS headers: MultiDict([('Access-Control-Allow-Origin', '*')])\n",
            "INFO:werkzeug:127.0.0.1 - - [22/May/2023 14:51:24] \"GET / HTTP/1.1\" 200 -\n",
            "DEBUG:flask_cors.extension:Request to '/' matches CORS resource '/*'. Using options: {'origins': ['.*'], 'methods': 'DELETE, GET, HEAD, OPTIONS, PATCH, POST, PUT', 'allow_headers': ['.*'], 'expose_headers': None, 'supports_credentials': False, 'max_age': None, 'send_wildcard': False, 'automatic_options': True, 'vary_header': True, 'resources': '/*', 'intercept_exceptions': True, 'always_send': True}\n",
            "DEBUG:flask_cors.core:Settings CORS headers: MultiDict([('Access-Control-Allow-Origin', '*')])\n",
            "INFO:werkzeug:127.0.0.1 - - [22/May/2023 14:51:26] \"GET / HTTP/1.1\" 200 -\n"
          ]
        }
      ]
    },
    {
      "cell_type": "code",
      "source": [
        "# code from stackoverflow\n",
        "from flask import Flask, request, jsonify, make_response\n",
        "\n",
        "flask_app = Flask(__name__)\n",
        "\n",
        "@flask_app.route(\"/api/orders\", methods=[\"POST\", \"OPTIONS\"])\n",
        "def api_create_order():\n",
        "    if request.method == \"OPTIONS\": # CORS preflight\n",
        "        return _build_cors_preflight_response()\n",
        "    elif request.method == \"POST\": # The actual request following the preflight\n",
        "        # น่าจะต้องใส่โคดตรงนี้มั้ง\n",
        "        return _corsify_actual_response(jsonify(...))\n",
        "    else:\n",
        "        raise RuntimeError(\"Weird - don't know how to handle method {}\".format(request.method))\n",
        "\n",
        "def _build_cors_preflight_response():\n",
        "    response = make_response()\n",
        "    response.headers.add(\"Access-Control-Allow-Origin\", \"*\")\n",
        "    response.headers.add('Access-Control-Allow-Headers', \"*\")\n",
        "    response.headers.add('Access-Control-Allow-Methods', \"*\")\n",
        "    return response\n",
        "\n",
        "def _corsify_actual_response(response):\n",
        "    response.headers.add(\"Access-Control-Allow-Origin\", \"*\")\n",
        "    return response"
      ],
      "metadata": {
        "id": "9uYZmmFj9qni"
      },
      "execution_count": null,
      "outputs": []
    },
    {
      "cell_type": "code",
      "source": [],
      "metadata": {
        "id": "mlHOmTjfCXlK"
      },
      "execution_count": null,
      "outputs": []
    }
  ]
}