{
  "nbformat": 4,
  "nbformat_minor": 0,
  "metadata": {
    "colab": {
      "name": "Flask App Tutorial.ipynb",
      "provenance": [],
      "machine_shape": "hm",
      "gpuType": "A100",
      "include_colab_link": true
    },
    "kernelspec": {
      "name": "python3",
      "display_name": "Python 3"
    },
    "language_info": {
      "name": "python"
    },
    "gpuClass": "standard",
    "accelerator": "GPU",
    "widgets": {
      "application/vnd.jupyter.widget-state+json": {
        "8a353827c7774463ad97c91e4a9789dd": {
          "model_module": "@jupyter-widgets/controls",
          "model_name": "HBoxModel",
          "model_module_version": "1.5.0",
          "state": {
            "_dom_classes": [],
            "_model_module": "@jupyter-widgets/controls",
            "_model_module_version": "1.5.0",
            "_model_name": "HBoxModel",
            "_view_count": null,
            "_view_module": "@jupyter-widgets/controls",
            "_view_module_version": "1.5.0",
            "_view_name": "HBoxView",
            "box_style": "",
            "children": [
              "IPY_MODEL_6647088f90a34c9cb944eeacd6e54604",
              "IPY_MODEL_f3aa86d42f3646e4a8da391e6a3fbcaa",
              "IPY_MODEL_2b377dd1e5084ae3bf426c343b8a2526"
            ],
            "layout": "IPY_MODEL_17f985770ae548228c667084eba474b4"
          }
        },
        "6647088f90a34c9cb944eeacd6e54604": {
          "model_module": "@jupyter-widgets/controls",
          "model_name": "HTMLModel",
          "model_module_version": "1.5.0",
          "state": {
            "_dom_classes": [],
            "_model_module": "@jupyter-widgets/controls",
            "_model_module_version": "1.5.0",
            "_model_name": "HTMLModel",
            "_view_count": null,
            "_view_module": "@jupyter-widgets/controls",
            "_view_module_version": "1.5.0",
            "_view_name": "HTMLView",
            "description": "",
            "description_tooltip": null,
            "layout": "IPY_MODEL_ea8c87f2aeb64b6d992c1467f6086a22",
            "placeholder": "​",
            "style": "IPY_MODEL_85aaf8673e364442833e890ecefd7ec0",
            "value": "Generating outputs: 100%"
          }
        },
        "f3aa86d42f3646e4a8da391e6a3fbcaa": {
          "model_module": "@jupyter-widgets/controls",
          "model_name": "FloatProgressModel",
          "model_module_version": "1.5.0",
          "state": {
            "_dom_classes": [],
            "_model_module": "@jupyter-widgets/controls",
            "_model_module_version": "1.5.0",
            "_model_name": "FloatProgressModel",
            "_view_count": null,
            "_view_module": "@jupyter-widgets/controls",
            "_view_module_version": "1.5.0",
            "_view_name": "ProgressView",
            "bar_style": "success",
            "description": "",
            "description_tooltip": null,
            "layout": "IPY_MODEL_9fc3b4c2e7ed42a3a8a3194e3166b483",
            "max": 1,
            "min": 0,
            "orientation": "horizontal",
            "style": "IPY_MODEL_0f6b1a5033b943aebccab5c4251c7b51",
            "value": 1
          }
        },
        "2b377dd1e5084ae3bf426c343b8a2526": {
          "model_module": "@jupyter-widgets/controls",
          "model_name": "HTMLModel",
          "model_module_version": "1.5.0",
          "state": {
            "_dom_classes": [],
            "_model_module": "@jupyter-widgets/controls",
            "_model_module_version": "1.5.0",
            "_model_name": "HTMLModel",
            "_view_count": null,
            "_view_module": "@jupyter-widgets/controls",
            "_view_module_version": "1.5.0",
            "_view_name": "HTMLView",
            "description": "",
            "description_tooltip": null,
            "layout": "IPY_MODEL_d87114cfbb5d477d9a62062809f661ea",
            "placeholder": "​",
            "style": "IPY_MODEL_c08554f36e38463aa366705cd08fffbb",
            "value": " 1/1 [00:01&lt;00:00,  1.59s/it]"
          }
        },
        "17f985770ae548228c667084eba474b4": {
          "model_module": "@jupyter-widgets/base",
          "model_name": "LayoutModel",
          "model_module_version": "1.2.0",
          "state": {
            "_model_module": "@jupyter-widgets/base",
            "_model_module_version": "1.2.0",
            "_model_name": "LayoutModel",
            "_view_count": null,
            "_view_module": "@jupyter-widgets/base",
            "_view_module_version": "1.2.0",
            "_view_name": "LayoutView",
            "align_content": null,
            "align_items": null,
            "align_self": null,
            "border": null,
            "bottom": null,
            "display": null,
            "flex": null,
            "flex_flow": null,
            "grid_area": null,
            "grid_auto_columns": null,
            "grid_auto_flow": null,
            "grid_auto_rows": null,
            "grid_column": null,
            "grid_gap": null,
            "grid_row": null,
            "grid_template_areas": null,
            "grid_template_columns": null,
            "grid_template_rows": null,
            "height": null,
            "justify_content": null,
            "justify_items": null,
            "left": null,
            "margin": null,
            "max_height": null,
            "max_width": null,
            "min_height": null,
            "min_width": null,
            "object_fit": null,
            "object_position": null,
            "order": null,
            "overflow": null,
            "overflow_x": null,
            "overflow_y": null,
            "padding": null,
            "right": null,
            "top": null,
            "visibility": null,
            "width": null
          }
        },
        "ea8c87f2aeb64b6d992c1467f6086a22": {
          "model_module": "@jupyter-widgets/base",
          "model_name": "LayoutModel",
          "model_module_version": "1.2.0",
          "state": {
            "_model_module": "@jupyter-widgets/base",
            "_model_module_version": "1.2.0",
            "_model_name": "LayoutModel",
            "_view_count": null,
            "_view_module": "@jupyter-widgets/base",
            "_view_module_version": "1.2.0",
            "_view_name": "LayoutView",
            "align_content": null,
            "align_items": null,
            "align_self": null,
            "border": null,
            "bottom": null,
            "display": null,
            "flex": null,
            "flex_flow": null,
            "grid_area": null,
            "grid_auto_columns": null,
            "grid_auto_flow": null,
            "grid_auto_rows": null,
            "grid_column": null,
            "grid_gap": null,
            "grid_row": null,
            "grid_template_areas": null,
            "grid_template_columns": null,
            "grid_template_rows": null,
            "height": null,
            "justify_content": null,
            "justify_items": null,
            "left": null,
            "margin": null,
            "max_height": null,
            "max_width": null,
            "min_height": null,
            "min_width": null,
            "object_fit": null,
            "object_position": null,
            "order": null,
            "overflow": null,
            "overflow_x": null,
            "overflow_y": null,
            "padding": null,
            "right": null,
            "top": null,
            "visibility": null,
            "width": null
          }
        },
        "85aaf8673e364442833e890ecefd7ec0": {
          "model_module": "@jupyter-widgets/controls",
          "model_name": "DescriptionStyleModel",
          "model_module_version": "1.5.0",
          "state": {
            "_model_module": "@jupyter-widgets/controls",
            "_model_module_version": "1.5.0",
            "_model_name": "DescriptionStyleModel",
            "_view_count": null,
            "_view_module": "@jupyter-widgets/base",
            "_view_module_version": "1.2.0",
            "_view_name": "StyleView",
            "description_width": ""
          }
        },
        "9fc3b4c2e7ed42a3a8a3194e3166b483": {
          "model_module": "@jupyter-widgets/base",
          "model_name": "LayoutModel",
          "model_module_version": "1.2.0",
          "state": {
            "_model_module": "@jupyter-widgets/base",
            "_model_module_version": "1.2.0",
            "_model_name": "LayoutModel",
            "_view_count": null,
            "_view_module": "@jupyter-widgets/base",
            "_view_module_version": "1.2.0",
            "_view_name": "LayoutView",
            "align_content": null,
            "align_items": null,
            "align_self": null,
            "border": null,
            "bottom": null,
            "display": null,
            "flex": null,
            "flex_flow": null,
            "grid_area": null,
            "grid_auto_columns": null,
            "grid_auto_flow": null,
            "grid_auto_rows": null,
            "grid_column": null,
            "grid_gap": null,
            "grid_row": null,
            "grid_template_areas": null,
            "grid_template_columns": null,
            "grid_template_rows": null,
            "height": null,
            "justify_content": null,
            "justify_items": null,
            "left": null,
            "margin": null,
            "max_height": null,
            "max_width": null,
            "min_height": null,
            "min_width": null,
            "object_fit": null,
            "object_position": null,
            "order": null,
            "overflow": null,
            "overflow_x": null,
            "overflow_y": null,
            "padding": null,
            "right": null,
            "top": null,
            "visibility": null,
            "width": null
          }
        },
        "0f6b1a5033b943aebccab5c4251c7b51": {
          "model_module": "@jupyter-widgets/controls",
          "model_name": "ProgressStyleModel",
          "model_module_version": "1.5.0",
          "state": {
            "_model_module": "@jupyter-widgets/controls",
            "_model_module_version": "1.5.0",
            "_model_name": "ProgressStyleModel",
            "_view_count": null,
            "_view_module": "@jupyter-widgets/base",
            "_view_module_version": "1.2.0",
            "_view_name": "StyleView",
            "bar_color": null,
            "description_width": ""
          }
        },
        "d87114cfbb5d477d9a62062809f661ea": {
          "model_module": "@jupyter-widgets/base",
          "model_name": "LayoutModel",
          "model_module_version": "1.2.0",
          "state": {
            "_model_module": "@jupyter-widgets/base",
            "_model_module_version": "1.2.0",
            "_model_name": "LayoutModel",
            "_view_count": null,
            "_view_module": "@jupyter-widgets/base",
            "_view_module_version": "1.2.0",
            "_view_name": "LayoutView",
            "align_content": null,
            "align_items": null,
            "align_self": null,
            "border": null,
            "bottom": null,
            "display": null,
            "flex": null,
            "flex_flow": null,
            "grid_area": null,
            "grid_auto_columns": null,
            "grid_auto_flow": null,
            "grid_auto_rows": null,
            "grid_column": null,
            "grid_gap": null,
            "grid_row": null,
            "grid_template_areas": null,
            "grid_template_columns": null,
            "grid_template_rows": null,
            "height": null,
            "justify_content": null,
            "justify_items": null,
            "left": null,
            "margin": null,
            "max_height": null,
            "max_width": null,
            "min_height": null,
            "min_width": null,
            "object_fit": null,
            "object_position": null,
            "order": null,
            "overflow": null,
            "overflow_x": null,
            "overflow_y": null,
            "padding": null,
            "right": null,
            "top": null,
            "visibility": null,
            "width": null
          }
        },
        "c08554f36e38463aa366705cd08fffbb": {
          "model_module": "@jupyter-widgets/controls",
          "model_name": "DescriptionStyleModel",
          "model_module_version": "1.5.0",
          "state": {
            "_model_module": "@jupyter-widgets/controls",
            "_model_module_version": "1.5.0",
            "_model_name": "DescriptionStyleModel",
            "_view_count": null,
            "_view_module": "@jupyter-widgets/base",
            "_view_module_version": "1.2.0",
            "_view_name": "StyleView",
            "description_width": ""
          }
        },
        "0d2b9a4f63db45958487cb0a63d55329": {
          "model_module": "@jupyter-widgets/controls",
          "model_name": "HBoxModel",
          "model_module_version": "1.5.0",
          "state": {
            "_dom_classes": [],
            "_model_module": "@jupyter-widgets/controls",
            "_model_module_version": "1.5.0",
            "_model_name": "HBoxModel",
            "_view_count": null,
            "_view_module": "@jupyter-widgets/controls",
            "_view_module_version": "1.5.0",
            "_view_name": "HBoxView",
            "box_style": "",
            "children": [
              "IPY_MODEL_dd5cd0844db64e2d830af93f2651b307",
              "IPY_MODEL_8dfd028a86ba4bae9f54d5c4e922015c",
              "IPY_MODEL_773c84d6d7e14ad2bcecaca964914c74"
            ],
            "layout": "IPY_MODEL_73034942f4b5425e95d0bfdc1cad7974"
          }
        },
        "dd5cd0844db64e2d830af93f2651b307": {
          "model_module": "@jupyter-widgets/controls",
          "model_name": "HTMLModel",
          "model_module_version": "1.5.0",
          "state": {
            "_dom_classes": [],
            "_model_module": "@jupyter-widgets/controls",
            "_model_module_version": "1.5.0",
            "_model_name": "HTMLModel",
            "_view_count": null,
            "_view_module": "@jupyter-widgets/controls",
            "_view_module_version": "1.5.0",
            "_view_name": "HTMLView",
            "description": "",
            "description_tooltip": null,
            "layout": "IPY_MODEL_b629680a39f7420ba7cbc040289bacd9",
            "placeholder": "​",
            "style": "IPY_MODEL_c3f0a3f4d6bb4aa4b2bfa49c47c1a33a",
            "value": "Decoding outputs: 100%"
          }
        },
        "8dfd028a86ba4bae9f54d5c4e922015c": {
          "model_module": "@jupyter-widgets/controls",
          "model_name": "FloatProgressModel",
          "model_module_version": "1.5.0",
          "state": {
            "_dom_classes": [],
            "_model_module": "@jupyter-widgets/controls",
            "_model_module_version": "1.5.0",
            "_model_name": "FloatProgressModel",
            "_view_count": null,
            "_view_module": "@jupyter-widgets/controls",
            "_view_module_version": "1.5.0",
            "_view_name": "ProgressView",
            "bar_style": "success",
            "description": "",
            "description_tooltip": null,
            "layout": "IPY_MODEL_c7de945cec98438188e645a792333fb5",
            "max": 6,
            "min": 0,
            "orientation": "horizontal",
            "style": "IPY_MODEL_d267a999c54b433eb4c80f28052699e6",
            "value": 6
          }
        },
        "773c84d6d7e14ad2bcecaca964914c74": {
          "model_module": "@jupyter-widgets/controls",
          "model_name": "HTMLModel",
          "model_module_version": "1.5.0",
          "state": {
            "_dom_classes": [],
            "_model_module": "@jupyter-widgets/controls",
            "_model_module_version": "1.5.0",
            "_model_name": "HTMLModel",
            "_view_count": null,
            "_view_module": "@jupyter-widgets/controls",
            "_view_module_version": "1.5.0",
            "_view_name": "HTMLView",
            "description": "",
            "description_tooltip": null,
            "layout": "IPY_MODEL_21b9fa018074439b86994efa5478b8b0",
            "placeholder": "​",
            "style": "IPY_MODEL_23ee1b0f248d4144962677d9bd40aa35",
            "value": " 6/6 [00:01&lt;00:00,  1.21s/it]"
          }
        },
        "73034942f4b5425e95d0bfdc1cad7974": {
          "model_module": "@jupyter-widgets/base",
          "model_name": "LayoutModel",
          "model_module_version": "1.2.0",
          "state": {
            "_model_module": "@jupyter-widgets/base",
            "_model_module_version": "1.2.0",
            "_model_name": "LayoutModel",
            "_view_count": null,
            "_view_module": "@jupyter-widgets/base",
            "_view_module_version": "1.2.0",
            "_view_name": "LayoutView",
            "align_content": null,
            "align_items": null,
            "align_self": null,
            "border": null,
            "bottom": null,
            "display": null,
            "flex": null,
            "flex_flow": null,
            "grid_area": null,
            "grid_auto_columns": null,
            "grid_auto_flow": null,
            "grid_auto_rows": null,
            "grid_column": null,
            "grid_gap": null,
            "grid_row": null,
            "grid_template_areas": null,
            "grid_template_columns": null,
            "grid_template_rows": null,
            "height": null,
            "justify_content": null,
            "justify_items": null,
            "left": null,
            "margin": null,
            "max_height": null,
            "max_width": null,
            "min_height": null,
            "min_width": null,
            "object_fit": null,
            "object_position": null,
            "order": null,
            "overflow": null,
            "overflow_x": null,
            "overflow_y": null,
            "padding": null,
            "right": null,
            "top": null,
            "visibility": null,
            "width": null
          }
        },
        "b629680a39f7420ba7cbc040289bacd9": {
          "model_module": "@jupyter-widgets/base",
          "model_name": "LayoutModel",
          "model_module_version": "1.2.0",
          "state": {
            "_model_module": "@jupyter-widgets/base",
            "_model_module_version": "1.2.0",
            "_model_name": "LayoutModel",
            "_view_count": null,
            "_view_module": "@jupyter-widgets/base",
            "_view_module_version": "1.2.0",
            "_view_name": "LayoutView",
            "align_content": null,
            "align_items": null,
            "align_self": null,
            "border": null,
            "bottom": null,
            "display": null,
            "flex": null,
            "flex_flow": null,
            "grid_area": null,
            "grid_auto_columns": null,
            "grid_auto_flow": null,
            "grid_auto_rows": null,
            "grid_column": null,
            "grid_gap": null,
            "grid_row": null,
            "grid_template_areas": null,
            "grid_template_columns": null,
            "grid_template_rows": null,
            "height": null,
            "justify_content": null,
            "justify_items": null,
            "left": null,
            "margin": null,
            "max_height": null,
            "max_width": null,
            "min_height": null,
            "min_width": null,
            "object_fit": null,
            "object_position": null,
            "order": null,
            "overflow": null,
            "overflow_x": null,
            "overflow_y": null,
            "padding": null,
            "right": null,
            "top": null,
            "visibility": null,
            "width": null
          }
        },
        "c3f0a3f4d6bb4aa4b2bfa49c47c1a33a": {
          "model_module": "@jupyter-widgets/controls",
          "model_name": "DescriptionStyleModel",
          "model_module_version": "1.5.0",
          "state": {
            "_model_module": "@jupyter-widgets/controls",
            "_model_module_version": "1.5.0",
            "_model_name": "DescriptionStyleModel",
            "_view_count": null,
            "_view_module": "@jupyter-widgets/base",
            "_view_module_version": "1.2.0",
            "_view_name": "StyleView",
            "description_width": ""
          }
        },
        "c7de945cec98438188e645a792333fb5": {
          "model_module": "@jupyter-widgets/base",
          "model_name": "LayoutModel",
          "model_module_version": "1.2.0",
          "state": {
            "_model_module": "@jupyter-widgets/base",
            "_model_module_version": "1.2.0",
            "_model_name": "LayoutModel",
            "_view_count": null,
            "_view_module": "@jupyter-widgets/base",
            "_view_module_version": "1.2.0",
            "_view_name": "LayoutView",
            "align_content": null,
            "align_items": null,
            "align_self": null,
            "border": null,
            "bottom": null,
            "display": null,
            "flex": null,
            "flex_flow": null,
            "grid_area": null,
            "grid_auto_columns": null,
            "grid_auto_flow": null,
            "grid_auto_rows": null,
            "grid_column": null,
            "grid_gap": null,
            "grid_row": null,
            "grid_template_areas": null,
            "grid_template_columns": null,
            "grid_template_rows": null,
            "height": null,
            "justify_content": null,
            "justify_items": null,
            "left": null,
            "margin": null,
            "max_height": null,
            "max_width": null,
            "min_height": null,
            "min_width": null,
            "object_fit": null,
            "object_position": null,
            "order": null,
            "overflow": null,
            "overflow_x": null,
            "overflow_y": null,
            "padding": null,
            "right": null,
            "top": null,
            "visibility": null,
            "width": null
          }
        },
        "d267a999c54b433eb4c80f28052699e6": {
          "model_module": "@jupyter-widgets/controls",
          "model_name": "ProgressStyleModel",
          "model_module_version": "1.5.0",
          "state": {
            "_model_module": "@jupyter-widgets/controls",
            "_model_module_version": "1.5.0",
            "_model_name": "ProgressStyleModel",
            "_view_count": null,
            "_view_module": "@jupyter-widgets/base",
            "_view_module_version": "1.2.0",
            "_view_name": "StyleView",
            "bar_color": null,
            "description_width": ""
          }
        },
        "21b9fa018074439b86994efa5478b8b0": {
          "model_module": "@jupyter-widgets/base",
          "model_name": "LayoutModel",
          "model_module_version": "1.2.0",
          "state": {
            "_model_module": "@jupyter-widgets/base",
            "_model_module_version": "1.2.0",
            "_model_name": "LayoutModel",
            "_view_count": null,
            "_view_module": "@jupyter-widgets/base",
            "_view_module_version": "1.2.0",
            "_view_name": "LayoutView",
            "align_content": null,
            "align_items": null,
            "align_self": null,
            "border": null,
            "bottom": null,
            "display": null,
            "flex": null,
            "flex_flow": null,
            "grid_area": null,
            "grid_auto_columns": null,
            "grid_auto_flow": null,
            "grid_auto_rows": null,
            "grid_column": null,
            "grid_gap": null,
            "grid_row": null,
            "grid_template_areas": null,
            "grid_template_columns": null,
            "grid_template_rows": null,
            "height": null,
            "justify_content": null,
            "justify_items": null,
            "left": null,
            "margin": null,
            "max_height": null,
            "max_width": null,
            "min_height": null,
            "min_width": null,
            "object_fit": null,
            "object_position": null,
            "order": null,
            "overflow": null,
            "overflow_x": null,
            "overflow_y": null,
            "padding": null,
            "right": null,
            "top": null,
            "visibility": null,
            "width": null
          }
        },
        "23ee1b0f248d4144962677d9bd40aa35": {
          "model_module": "@jupyter-widgets/controls",
          "model_name": "DescriptionStyleModel",
          "model_module_version": "1.5.0",
          "state": {
            "_model_module": "@jupyter-widgets/controls",
            "_model_module_version": "1.5.0",
            "_model_name": "DescriptionStyleModel",
            "_view_count": null,
            "_view_module": "@jupyter-widgets/base",
            "_view_module_version": "1.2.0",
            "_view_name": "StyleView",
            "description_width": ""
          }
        }
      }
    }
  },
  "cells": [
    {
      "cell_type": "markdown",
      "metadata": {
        "id": "view-in-github",
        "colab_type": "text"
      },
      "source": [
        "<a href=\"https://colab.research.google.com/github/defyMiy/NMT-Project/blob/main/server.ipynb\" target=\"_parent\"><img src=\"https://colab.research.google.com/assets/colab-badge.svg\" alt=\"Open In Colab\"/></a>"
      ]
    },
    {
      "cell_type": "code",
      "source": [
        "from google.colab import drive\n",
        "drive.mount('/content/gdrive')"
      ],
      "metadata": {
        "id": "69pvKnpzCP1p"
      },
      "execution_count": null,
      "outputs": []
    },
    {
      "cell_type": "code",
      "source": [
        "!pip install simpletransformers\n",
        "!pip install torch\n",
        "!pip install pythainlp\n",
        "!pip install python-crfsuite\n",
        "!pip install sacremoses"
      ],
      "metadata": {
        "id": "na1ddGhxCOw6"
      },
      "execution_count": null,
      "outputs": []
    },
    {
      "cell_type": "code",
      "source": [
        "!rm -rf '/content/ngrok-stable-linux-amd64.tgz'\n",
        "!rm -rf '/content/ngrok'\n",
        "\n",
        "!pip install flask --quiet\n",
        "!pip install flask-ngrok --quiet\n",
        "!pip install -U flask-cors\n",
        "\n",
        "# install ngrok linux version using the following command or you can get the\n",
        "# latest version from its official website- https://dashboard.ngrok.com/get-started/setup\n",
        "!wget https://bin.equinox.io/c/4VmDzA7iaHb/ngrok-stable-linux-amd64.tgz\n",
        "\n",
        "# extract the downloaded file using the following command \n",
        "!tar -xvf /content/ngrok-stable-linux-amd64.tgz\n",
        "\n",
        "# paste your AuthToken here and execute this command\n",
        "!./ngrok authtoken 2Q8ZedCqtQIP2l7e7KVREa2MMvc_2qRULQx4QRLYG97GMTyaZ"
      ],
      "metadata": {
        "id": "t1HlxLaRJ-uv"
      },
      "execution_count": null,
      "outputs": []
    },
    {
      "cell_type": "code",
      "source": [
        "import logging\n",
        "import torch\n",
        "from simpletransformers.t5 import T5Model, T5Args\n",
        "from simpletransformers.seq2seq import Seq2SeqModel, Seq2SeqArgs\n",
        "\n",
        "logging.basicConfig(level=logging.INFO)\n",
        "transformers_logger = logging.getLogger(\"transformers\")\n",
        "transformers_logger.setLevel(logging.WARNING)\n",
        "\n",
        "model_args = T5Args()\n",
        "model_args.max_length = 100\n",
        "model_args.length_penalty = 1\n",
        "model_args.num_beams = 10\n",
        "\n",
        "model_args_s2s = Seq2SeqArgs()\n",
        "model_args.max_length = 100\n",
        "model_args.length_penalty = 1\n",
        "model_args.num_beams = 10\n",
        "\n",
        "device = torch.cuda.is_available()"
      ],
      "metadata": {
        "id": "dEajrG6gAf3M"
      },
      "execution_count": 18,
      "outputs": []
    },
    {
      "cell_type": "code",
      "source": [
        "import re\n",
        "import pycrfsuite\n",
        "from pythainlp import sent_tokenize\n",
        "\n",
        "def split_sentence_TH(TH_predict):\n",
        "  TH_predict = sent_tokenize(TH_predict)\n",
        "  for i in range(len(TH_predict)):\n",
        "    # remove space in back\n",
        "    TH_predict[i] = TH_predict[i].rstrip()\n",
        "\n",
        "    # debug for engine fail example ['750ml', '1500ml']\n",
        "    # move to append previous sentences\n",
        "    # and replace ''\n",
        "    if re.search('[0-9]', TH_predict[i][0]):\n",
        "      j = i\n",
        "      while True:\n",
        "        if TH_predict[j-1] != '':\n",
        "          TH_predict[j-1] += ' ' + TH_predict[i]\n",
        "          break\n",
        "      j -= 1\n",
        "      TH_predict[i] = ''\n",
        "\n",
        "  # remove '' in list\n",
        "  while '' in TH_predict:\n",
        "    TH_predict.remove('')\n",
        "  print(TH_predict)\n",
        "  return TH_predict\n",
        "\n",
        "def split_sentence_EN(EN_predict):\n",
        "  EN_predict = EN_predict.split('. ')\n",
        "  for i in range(len(EN_predict)):\n",
        "    if EN_predict[i][-1] != '.':\n",
        "      EN_predict[i] += '.'\n",
        "  print(EN_predict)\n",
        "  return EN_predict\n",
        "  \n",
        "def predict(machine, text):\n",
        "  if machine == 'mt5':\n",
        "    path = '/content/gdrive/MyDrive/model/mt5-4bs-4e-5lr'\n",
        "    model = T5Model(\"mt5\", path, args=model_args, use_cuda=device)\n",
        "  elif machine == 'marian':\n",
        "    path = '/content/gdrive/MyDrive/model/marian-add'\n",
        "    model = Seq2SeqModel(encoder_decoder_type=\"marian\", encoder_decoder_name=path, args=model_args_s2s, use_cuda=device)\n",
        "  elif machine == 'mbart':\n",
        "    path = '/content/gdrive/MyDrive/model/mbart-4bs'\n",
        "    model = Seq2SeqModel(encoder_decoder_type=\"mbart\", encoder_decoder_name=path, args=model_args_s2s, use_cuda=device)\n",
        "  predictions = model.predict(text)\n",
        "  print(predictions)\n",
        "  return predictions"
      ],
      "metadata": {
        "id": "Xad5rlk563qu"
      },
      "execution_count": 19,
      "outputs": []
    },
    {
      "cell_type": "code",
      "source": [
        "import logging\n",
        "# import Flask from flask module\n",
        "from flask import Flask, request, jsonify\n",
        "from flask_cors import CORS\n",
        "# import run_with_ngrok from flask_ngrok to run the app using ngrok\n",
        "from flask_ngrok import run_with_ngrok\n",
        "\n",
        "app = Flask(__name__) #app name\n",
        "logging.basicConfig(level=logging.INFO)\n",
        "logging.getLogger('flask_cors').level = logging.DEBUG\n",
        "CORS(app)\n",
        "run_with_ngrok(app)\n",
        "  \n",
        "@app.route(\"/\", methods=[\"GET\", \"POST\"])\n",
        "def index():\n",
        "  if request.method == \"POST\":\n",
        "    json_data = request.get_json()\n",
        "    if not json_data:\n",
        "      return jsonify({\"error\": \"no data\"})\n",
        "    try:\n",
        "      if json_data[\"task\"] == \"th-en\":\n",
        "        prediction = split_sentence_TH(json_data[\"text\"])\n",
        "      elif json_data[\"task\"] == \"en-th\":\n",
        "        prediction = split_sentence_EN(json_data[\"text\"])\n",
        "      prediction = predict(json_data[\"machine\"], prediction)\n",
        "      data_predicted = {\"prediction\": prediction}\n",
        "      return jsonify(data_predicted)\n",
        "    except Exception as e:\n",
        "      return jsonify({\"error\": str(e)})\n",
        "  return \"OK\"\n",
        "  \n",
        "if __name__ == \"__main__\":\n",
        "  app.run()"
      ],
      "metadata": {
        "colab": {
          "base_uri": "https://localhost:8080/",
          "height": 778,
          "referenced_widgets": [
            "8a353827c7774463ad97c91e4a9789dd",
            "6647088f90a34c9cb944eeacd6e54604",
            "f3aa86d42f3646e4a8da391e6a3fbcaa",
            "2b377dd1e5084ae3bf426c343b8a2526",
            "17f985770ae548228c667084eba474b4",
            "ea8c87f2aeb64b6d992c1467f6086a22",
            "85aaf8673e364442833e890ecefd7ec0",
            "9fc3b4c2e7ed42a3a8a3194e3166b483",
            "0f6b1a5033b943aebccab5c4251c7b51",
            "d87114cfbb5d477d9a62062809f661ea",
            "c08554f36e38463aa366705cd08fffbb",
            "0d2b9a4f63db45958487cb0a63d55329",
            "dd5cd0844db64e2d830af93f2651b307",
            "8dfd028a86ba4bae9f54d5c4e922015c",
            "773c84d6d7e14ad2bcecaca964914c74",
            "73034942f4b5425e95d0bfdc1cad7974",
            "b629680a39f7420ba7cbc040289bacd9",
            "c3f0a3f4d6bb4aa4b2bfa49c47c1a33a",
            "c7de945cec98438188e645a792333fb5",
            "d267a999c54b433eb4c80f28052699e6",
            "21b9fa018074439b86994efa5478b8b0",
            "23ee1b0f248d4144962677d9bd40aa35"
          ]
        },
        "id": "XLlugcOeKlWH",
        "outputId": "63eeaeb6-99a5-4f4e-bc18-86ac87d6717d"
      },
      "execution_count": null,
      "outputs": [
        {
          "output_type": "stream",
          "name": "stderr",
          "text": [
            "DEBUG:flask_cors.extension:Configuring CORS with resources: {'/*': {'origins': ['.*'], 'methods': 'DELETE, GET, HEAD, OPTIONS, PATCH, POST, PUT', 'allow_headers': ['.*'], 'expose_headers': None, 'supports_credentials': False, 'max_age': None, 'send_wildcard': False, 'automatic_options': True, 'vary_header': True, 'resources': '/*', 'intercept_exceptions': True, 'always_send': True}}\n"
          ]
        },
        {
          "output_type": "stream",
          "name": "stdout",
          "text": [
            " * Serving Flask app '__main__'\n",
            " * Debug mode: off\n"
          ]
        },
        {
          "output_type": "stream",
          "name": "stderr",
          "text": [
            "INFO:werkzeug:\u001b[31m\u001b[1mWARNING: This is a development server. Do not use it in a production deployment. Use a production WSGI server instead.\u001b[0m\n",
            " * Running on http://127.0.0.1:5000\n",
            "INFO:werkzeug:\u001b[33mPress CTRL+C to quit\u001b[0m\n"
          ]
        },
        {
          "output_type": "stream",
          "name": "stdout",
          "text": [
            " * Running on http://5030-35-192-146-164.ngrok-free.app\n",
            " * Traffic stats available on http://127.0.0.1:4040\n"
          ]
        },
        {
          "output_type": "stream",
          "name": "stderr",
          "text": [
            "DEBUG:flask_cors.extension:Request to '/' matches CORS resource '/*'. Using options: {'origins': ['.*'], 'methods': 'DELETE, GET, HEAD, OPTIONS, PATCH, POST, PUT', 'allow_headers': ['.*'], 'expose_headers': None, 'supports_credentials': False, 'max_age': None, 'send_wildcard': False, 'automatic_options': True, 'vary_header': True, 'resources': '/*', 'intercept_exceptions': True, 'always_send': True}\n",
            "DEBUG:flask_cors.core:CORS request received with 'Origin' http://localhost:3000\n",
            "DEBUG:flask_cors.core:The request's Origin header matches. Sending CORS headers.\n",
            "DEBUG:flask_cors.core:Settings CORS headers: MultiDict([('Access-Control-Allow-Origin', 'http://localhost:3000'), ('Access-Control-Allow-Headers', 'content-type'), ('Access-Control-Allow-Methods', 'DELETE, GET, HEAD, OPTIONS, PATCH, POST, PUT'), ('Vary', 'Origin')])\n",
            "INFO:werkzeug:127.0.0.1 - - [22/May/2023 17:40:31] \"OPTIONS / HTTP/1.1\" 200 -\n"
          ]
        },
        {
          "output_type": "stream",
          "name": "stdout",
          "text": [
            "['บทความวิจัยนี้นำเสนอความเหมาะสมของเทคนิคการตรวจจับการเกิดการจ่ายไฟแบบแยกตัวอิสระแบบโลคอลสำหรับอินเวอร์เตอร์เชื่อมต่อในหลายหน่วยผลิตไฟฟ้าแบบกระจายตัว เพื่อเป็นแนวทางในการใช้ประโยชน์เทคนิคแบบโลคอลสำหรับต่อต้านสภาวะการแยกตัวอิสระซึ่งเกิดจากการติดตั้งหน่วยผลิตไฟฟ้าแบบกระจายตัวเพิ่มมากขึ้นเรื่อย ๆ ในบทความนี้ใช้หน่วยผลิตไฟฟ้าแบบกระจายตัวจำนวน 5 ตัว', 'ทำให้ได้ 15 รูปแบบ จากผลการจำลองการทำงานพบว่าหากหน่วยผลิตไฟฟ้าแบบกระจายตัวมีจำนวนเพิ่มขึ้นจนกระทั่งปริมาณกำลังไฟฟ้าของหน่วยผลิตไฟฟ้าแบบกระจายตัวเท่ากันหรือใกล้เคียงกับกำลังไฟฟ้าของโหลดทั้งระบบ', 'ถ้าอินเวอร์เตอร์ของหน่วยผลิตไฟฟ้าแบบกระจายตัวทั้ง 5 ตัวใช้เทคนิคแบบพาสซีฟจะไม่สามารถตรวจจับได้', 'ถ้าใช้เทคนิคแบบแอคทีฟทั้งหมดจะสามารถตรวจจับได้ภายในเวลา 0.24 วินาที', 'ถ้าใช้เทคนิคแบบไฮบริดทั้งหมดจะสามารถตรวจจับได้ภายในเวลา 0.282 วินาที', 'และถ้าผสมเทคนิคแบบพาสซีฟ แบบแอคทีฟ และแบบไฮบริดจะสามารถตรวจจับได้ภายในเวลา 0.315 วินาที']\n"
          ]
        },
        {
          "output_type": "display_data",
          "data": {
            "text/plain": [
              "Generating outputs:   0%|          | 0/1 [00:00<?, ?it/s]"
            ],
            "application/vnd.jupyter.widget-view+json": {
              "version_major": 2,
              "version_minor": 0,
              "model_id": "8a353827c7774463ad97c91e4a9789dd"
            }
          },
          "metadata": {}
        },
        {
          "output_type": "stream",
          "name": "stderr",
          "text": [
            "/usr/local/lib/python3.10/dist-packages/transformers/tokenization_utils_base.py:3732: FutureWarning: \n",
            "`prepare_seq2seq_batch` is deprecated and will be removed in version 5 of HuggingFace Transformers. Use the regular\n",
            "`__call__` method to prepare your inputs and targets.\n",
            "\n",
            "Here is a short example:\n",
            "\n",
            "model_inputs = tokenizer(src_texts, text_target=tgt_texts, ...)\n",
            "\n",
            "If you either need to use different keyword arguments for the source and target texts, you should do two calls like\n",
            "this:\n",
            "\n",
            "model_inputs = tokenizer(src_texts, ...)\n",
            "labels = tokenizer(text_target=tgt_texts, ...)\n",
            "model_inputs[\"labels\"] = labels[\"input_ids\"]\n",
            "\n",
            "See the documentation of your specific tokenizer for more details on the specific arguments to the tokenizer of choice.\n",
            "For a more complete example, see the implementation of `prepare_seq2seq_batch`.\n",
            "\n",
            "  warnings.warn(formatted_warning, FutureWarning)\n"
          ]
        },
        {
          "output_type": "display_data",
          "data": {
            "text/plain": [
              "Decoding outputs:   0%|          | 0/6 [00:00<?, ?it/s]"
            ],
            "application/vnd.jupyter.widget-view+json": {
              "version_major": 2,
              "version_minor": 0,
              "model_id": "0d2b9a4f63db45958487cb0a63d55329"
            }
          },
          "metadata": {}
        },
        {
          "output_type": "stream",
          "name": "stderr",
          "text": [
            "DEBUG:flask_cors.extension:Request to '/' matches CORS resource '/*'. Using options: {'origins': ['.*'], 'methods': 'DELETE, GET, HEAD, OPTIONS, PATCH, POST, PUT', 'allow_headers': ['.*'], 'expose_headers': None, 'supports_credentials': False, 'max_age': None, 'send_wildcard': False, 'automatic_options': True, 'vary_header': True, 'resources': '/*', 'intercept_exceptions': True, 'always_send': True}\n",
            "DEBUG:flask_cors.core:CORS request received with 'Origin' http://localhost:3000\n",
            "DEBUG:flask_cors.core:The request's Origin header matches. Sending CORS headers.\n",
            "DEBUG:flask_cors.core:Settings CORS headers: MultiDict([('Access-Control-Allow-Origin', 'http://localhost:3000'), ('Vary', 'Origin')])\n",
            "INFO:werkzeug:127.0.0.1 - - [22/May/2023 17:40:48] \"POST / HTTP/1.1\" 200 -\n"
          ]
        },
        {
          "output_type": "stream",
          "name": "stdout",
          "text": [
            "['This research article presents the suitability of a logic differential leakage technique for multiple distribution inverters in order to prevent the leakage condition caused by increasing number of distribution inverters. In this paper, 5 distribution inverters are used.', 'The simulation results showed that if the distribution power unit increases until the power capacity of distribution power unit is equal to the same or close to the power capacity of all the load.', 'If the inverter of all 5 distribution power units uses a phase-plane technique, it will not detect the leakage.', 'By applying all analytical techniques, it can be detected within 0.24 second.', 'By applying all hydraulic techniques, the detector can be detected within 0.282 second.', 'And if combined the pasteurized technique, a static technique and a hybrid technique can detect within 0.315 seconds.']\n"
          ]
        }
      ]
    },
    {
      "cell_type": "code",
      "source": [],
      "metadata": {
        "id": "mlHOmTjfCXlK"
      },
      "execution_count": null,
      "outputs": []
    }
  ]
}